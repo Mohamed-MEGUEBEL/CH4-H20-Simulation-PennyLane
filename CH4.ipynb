{
 "cells": [
  {
   "attachments": {},
   "cell_type": "markdown",
   "metadata": {},
   "source": [
    " # Simulating CH4 with PennyLane "
   ]
  },
  {
   "attachments": {},
   "cell_type": "markdown",
   "metadata": {},
   "source": [
    "## Building molecular Hamiltonian "
   ]
  },
  {
   "cell_type": "code",
   "execution_count": null,
   "metadata": {},
   "outputs": [],
   "source": [
    "from pennylane import numpy as np \n",
    "from pennylane import qchem \n",
    "import pennylane as qml \n",
    "import time \n",
    "\n",
    "# defining the molecule \n",
    "\n",
    "symbols = [\"C\", \"H\", \"H\", \"H\", \"H\"]\n",
    "coordinates = 0.529*np.array([[0.0,0.0,0.0],[0.6276,0.6276,0.6276],[0.6276,-0.6276,-0.6276],[-0.6276,0.6276,-0.6276],[-0.6276,-0.6276,0.6276]])\n",
    "# coordinates in atomic units "
   ]
  },
  {
   "cell_type": "code",
   "execution_count": null,
   "metadata": {},
   "outputs": [],
   "source": [
    "# defining molecule specificites for simplification after having studied it's MOs\n",
    "\n",
    "charge = 0  # not an ion \n",
    "mult = 1 # initially, prone to change if Givens rotations \n",
    "active_electrons = 8 # not considering the 1s core electrons \n",
    "active_orbitals = 5 # neglecting core 1s and the 3 MOs with the highest energy\n",
    "\n",
    "H, qubits = qchem.molecular_hamiltonian(symbols,coordinates,charge=charge, mult = mult, active_electrons = active_electrons, active_orbitals = active_orbitals)\n"
   ]
  },
  {
   "attachments": {},
   "cell_type": "markdown",
   "metadata": {},
   "source": [
    "## Energy and ground state "
   ]
  },
  {
   "cell_type": "code",
   "execution_count": null,
   "metadata": {},
   "outputs": [],
   "source": [
    "electrons = 8\n",
    "hf = qml.qchem.hf_state(electrons, qubits) # creating corresponding Hartree-Fock state\n",
    "print(hf)"
   ]
  },
  {
   "attachments": {},
   "cell_type": "markdown",
   "metadata": {},
   "source": [
    "### Evaluating the relevant Givens rotations (i.e. electrons excitations)"
   ]
  },
  {
   "cell_type": "code",
   "execution_count": null,
   "metadata": {},
   "outputs": [],
   "source": [
    "singles, doubles = qchem.excitations(active_electrons,qubits)\n",
    "print(\"Total number of excitations = {}\".format(len(singles)+len(doubles))) # yields 24 possible spin-preserving excitations\n",
    "\n",
    "def circuit_1(params, excitations): \n",
    "    qml.BasisState(hf_state,wires=range(qubits)) # generating the corresponding Hartree-Fock state in the the VQC\n",
    "    for i, excitation in enumerate(excitations):\n",
    "        if len(excitation) == 4: # meaning a double-excitation \n",
    "            qml.DoubleExcitation(params[i],wires=excitation) # where the excitation is being applied\n",
    "        else: # meaning single-excitation \n",
    "            qml.SingleExcitation(params[i],wires=excitation) \n",
    "    return qml.expval(H)"
   ]
  }
 ],
 "metadata": {
  "language_info": {
   "name": "python"
  },
  "orig_nbformat": 4
 },
 "nbformat": 4,
 "nbformat_minor": 2
}
