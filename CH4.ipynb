{
 "cells": [
  {
   "attachments": {},
   "cell_type": "markdown",
   "metadata": {},
   "source": [
    "Simulating CH4 with PennyLane "
   ]
  },
  {
   "attachments": {},
   "cell_type": "markdown",
   "metadata": {},
   "source": [
    "Building molecular Hamiltonian "
   ]
  },
  {
   "cell_type": "code",
   "execution_count": null,
   "metadata": {},
   "outputs": [],
   "source": [
    "from pennylane import numpy as np \n",
    "from pennylane import qchem \n",
    "import pennylane as qml \n",
    "\n",
    "# defining the molecule \n",
    "\n",
    "symbols = [\"C\", \"H\", \"H\", \"H\", \"H\"]\n",
    "coordinates = 0.529*np.array([[0.0,0.0,0.0],[0.6276,0.6276,0.6276],[0.6276,-0.6276,-0.6276],[-0.6276,0.6276,-0.6276],[-0.6276,-0.6276,0.6276]])\n",
    "# coordinates in atomic units "
   ]
  },
  {
   "cell_type": "code",
   "execution_count": null,
   "metadata": {},
   "outputs": [],
   "source": [
    "# defining molecule specificites for simplification after having studied it's MOs\n",
    "\n",
    "charge = 0  # not an ion \n",
    "mult = 1 # initially, prone to change if Givens rotations \n",
    "active_electrons = 8 # not considering the 1s core electrons \n",
    "active_orbitals = 5 # neglecting core 1s and the 3 MOs with the highest energy\n",
    "\n",
    "H, qubits = qchem.molecular_hamiltonian(symbols,coordinates,charge=charge, mult = mult, active_electrons = active_electrons, active_orbitals = active_orbitals)\n"
   ]
  }
 ],
 "metadata": {
  "language_info": {
   "name": "python"
  },
  "orig_nbformat": 4
 },
 "nbformat": 4,
 "nbformat_minor": 2
}
