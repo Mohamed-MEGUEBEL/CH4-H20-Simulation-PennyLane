{
 "cells": [
  {
   "attachments": {},
   "cell_type": "markdown",
   "metadata": {},
   "source": [
    " # Simulating CH4 with PennyLane "
   ]
  },
  {
   "attachments": {},
   "cell_type": "markdown",
   "metadata": {},
   "source": [
    "## Building molecular Hamiltonian "
   ]
  },
  {
   "cell_type": "code",
   "execution_count": null,
   "metadata": {},
   "outputs": [],
   "source": [
    "from pennylane import numpy as np \n",
    "from pennylane import qchem \n",
    "import pennylane as qml \n",
    "import time \n",
    "\n",
    "# defining the molecule \n",
    "\n",
    "symbols = [\"C\", \"H\", \"H\", \"H\", \"H\"]\n",
    "coordinates = 0.529*np.array([[0.0,0.0,0.0],[0.6276,0.6276,0.6276],[0.6276,-0.6276,-0.6276],[-0.6276,0.6276,-0.6276],[-0.6276,-0.6276,0.6276]])\n",
    "# coordinates in atomic units "
   ]
  },
  {
   "cell_type": "code",
   "execution_count": null,
   "metadata": {},
   "outputs": [],
   "source": [
    "# defining molecule specificites for simplification after having studied it's MOs\n",
    "\n",
    "charge = 0  # not an ion \n",
    "mult = 1 # initially, prone to change if Givens rotations \n",
    "active_electrons = 8 # not considering the 1s core electrons \n",
    "active_orbitals = 5 # neglecting core 1s and the 3 MOs with the highest energy doesn't change much with 6 active orbitals instead of 5 (tried out in case considered 1s coming from C, which is irrelevant)\n",
    "\n",
    "H, qubits = qchem.molecular_hamiltonian(symbols,coordinates,charge=charge, mult = mult, active_electrons = active_electrons, active_orbitals = active_orbitals)\n"
   ]
  },
  {
   "attachments": {},
   "cell_type": "markdown",
   "metadata": {},
   "source": [
    "## Energy and ground state "
   ]
  },
  {
   "cell_type": "code",
   "execution_count": null,
   "metadata": {},
   "outputs": [],
   "source": [
    "electrons = 8\n",
    "hf = qml.qchem.hf_state(electrons, qubits) # creating corresponding Hartree-Fock state\n",
    "print(hf)"
   ]
  },
  {
   "attachments": {},
   "cell_type": "markdown",
   "metadata": {},
   "source": [
    "### Evaluating the relevant Givens rotations (i.e. electrons excitations)"
   ]
  },
  {
   "cell_type": "code",
   "execution_count": null,
   "metadata": {},
   "outputs": [],
   "source": [
    "singles, doubles = qchem.excitations(active_electrons,qubits)\n",
    "print(\"Total number of excitations = {}\".format(len(singles)+len(doubles))) # yields 24 possible spin-preserving excitations\n",
    "\n",
    "def circuit_1(params, excitations): \n",
    "    qml.BasisState(hf,wires=range(qubits)) # generating the corresponding Hartree-Fock state in the the VQC\n",
    "    for i, excitation in enumerate(excitations):\n",
    "        if len(excitation) == 4: # meaning a double-excitation \n",
    "            qml.DoubleExcitation(params[i],wires=excitation) # where the excitation is being applied\n",
    "        else: # meaning single-excitation \n",
    "            qml.SingleExcitation(params[i],wires=excitation) \n",
    "    return qml.expval(H)\n",
    "\n",
    "\"\"\" \n",
    "Protocol : \n",
    "\n",
    "- Compute gradients for all double excitations.\n",
    "\n",
    "- Select the double excitations with gradients larger than a pre-defined threshold.\n",
    "\n",
    "- Perform VQE to obtain the optimized parameters for the selected double excitations.\n",
    "\n",
    "- Repeat steps 1 and 2 for the single excitations.\n",
    "\n",
    "- Perform the final VQE optimization with all the selected excitations.\n",
    "\"\"\""
   ]
  },
  {
   "cell_type": "code",
   "execution_count": null,
   "metadata": {},
   "outputs": [],
   "source": [
    "# double excitations selection\n",
    "\n",
    "dev = qml.device(\"default.qubit\",wires=qubits)\n",
    "cost_fn = qml.QNode(circuit_1,dev) # instead of the decorator, same thing otherwise\n",
    "\n",
    "circuit_gradient = qml.grad(cost_fn,argnum=0) # returns the gradient as a callable function of (functions of) QNodes.\n",
    "\n",
    "params = [0.0] * len(doubles) # parameter values to zero such that the gradients are computed with respect to the Hartree-Fock state.\n",
    "grads = circuit_gradient(params,excitations=doubles) # OK \n",
    "\n",
    "#for i in range(len(doubles)):\n",
    "    #print(f\"Excitation : {doubles[i]}, Gradient : {grads[i]}\")"
   ]
  },
  {
   "cell_type": "code",
   "execution_count": null,
   "metadata": {},
   "outputs": [],
   "source": [
    "# defining the right threshold in order not to have to many Givens rotations \n",
    "\n",
    "doubles_select = [doubles[i] for i in range(len(doubles)) if abs(grads[i]) > 1.0e-2]\n",
    "# len(doubles_select), if 1.0e-3 takes all the excitations"
   ]
  },
  {
   "cell_type": "code",
   "execution_count": null,
   "metadata": {},
   "outputs": [],
   "source": [
    "# finding the optimizing parameters for double excitations \n",
    "\n",
    "opt = qml.GradientDescentOptimizer(stepsize=0.5) # QNG doesn't seem to provide any speed-up\n",
    "params_doubles = np.zeros(len(doubles_select),requires_grad = True) \n",
    "\n",
    "for n in range(20): # number of optimizations \n",
    "    params_doubles = opt.step(cost_fn, params_doubles, excitations=doubles_select) "
   ]
  },
  {
   "cell_type": "code",
   "execution_count": null,
   "metadata": {},
   "outputs": [],
   "source": [
    "# single excitations selection (same idea but have to prior consider the previously selected double excitations)\n",
    "\n",
    "def circuit_2(params, excitations, gates_select, params_select):\n",
    "    qml.BasisState(hf, wires=range(qubits))\n",
    "    for i, gate in enumerate(gates_select): # applying the selected double excitations \n",
    "        qml.DoubleExcitation(params_select[i], wires=gate)       \n",
    "    for i, gate in enumerate(excitations): # testing the single excitations \n",
    "        qml.SingleExcitation(params[i], wires=gate)\n",
    "    return qml.expval(H)\n",
    "\n",
    "cost_fn = qml.QNode(circuit_2, dev)\n",
    "circuit_gradient = qml.grad(cost_fn, argnum=0)\n",
    "params = [0.0] * len(singles)\n",
    "\n",
    "grads = circuit_gradient(\n",
    "    params,\n",
    "    excitations=singles,\n",
    "    gates_select=doubles_select,\n",
    "    params_select=params_doubles\n",
    ")\n",
    "\n",
    "#for i in range(len(singles)):\n",
    "    #print(f\"Excitation : {singles[i]}, Gradient: {grads[i]}\") # f format string"
   ]
  },
  {
   "cell_type": "code",
   "execution_count": null,
   "metadata": {},
   "outputs": [],
   "source": [
    "# defining the right threshold in order not to have to many Givens rotations \n",
    "\n",
    "singles_select = [singles[i] for i in range(len(singles)) if abs(grads[i]) > 1.0e-4]\n",
    "# len(singles_select)"
   ]
  },
  {
   "cell_type": "code",
   "execution_count": null,
   "metadata": {},
   "outputs": [],
   "source": [
    "# applying all selected excitations and VQE to optimize the full quantum circuit \n",
    "\n",
    "# before, to speed things up, let's consider the sparsing (lot of zeroes) of the molecular Hamiltonian \n",
    "\n",
    "H_sparse = qml.utils.sparse_hamiltonian(H)\n",
    "\n",
    "# now the VQE \n",
    "\n",
    "opt = qml.GradientDescentOptimizer(stepsize=0.5) # what about QNG ?\n",
    "\n",
    "excitations = doubles_select + singles_select\n",
    "\n",
    "params = np.zeros(len(excitations), requires_grad=True)\n",
    "\n",
    "@qml.qnode(dev, diff_method=\"parameter-shift\")\n",
    "def circuit(params):\n",
    "    qml.BasisState(hf, wires=range(qubits))\n",
    "\n",
    "    for i, excitation in enumerate(excitations):\n",
    "        if len(excitation) == 4:\n",
    "            qml.DoubleExcitation(params[i], wires=excitation)\n",
    "        elif len(excitation) == 2:\n",
    "            qml.SingleExcitation(params[i], wires=excitation)\n",
    "\n",
    "    return qml.expval(qml.SparseHamiltonian(H_sparse, wires=range(qubits)))\n",
    "\n",
    "\n",
    "\"\"\" for n in range(20):\n",
    "    t1 = time.time()\n",
    "    params, energy = opt.step_and_cost(circuit, params)\n",
    "    t2 = time.time()\n",
    "    print(\"n = {:},  E = {:.8f} H, t = {:.2f} s\".format(n, energy, t2 - t1))\"\"\"\n",
    "\n",
    "conv_tol = 1e-06\n",
    "gd_cost = []\n",
    "max_iterations = 500\n",
    "\n",
    "for n in range(max_iterations):\n",
    "    params, prev_energy = opt.step_and_cost(circuit, params)\n",
    "    gd_cost.append(prev_energy)\n",
    "\n",
    "    energy = circuit(params)\n",
    "    conv = np.abs(energy - prev_energy)\n",
    "\n",
    "    if n % 20 == 0:\n",
    "        print(\n",
    "            \"Iteration = {:},  Energy = {:.8f} Ha\".format(n, energy)\n",
    "        )\n",
    "\n",
    "    if conv <= conv_tol:\n",
    "        break\n",
    "        \n",
    "\n",
    "plt.style.use(\"seaborn\")\n",
    "plt.plot(np.array(gd_cost), \"g\", label=\"Gradient descent\")\n",
    "plt.ylabel(\"Energy\")\n",
    "plt.xlabel(\"Step\")\n",
    "plt.legend()\n",
    "plt.show()"
   ]
  },
  {
   "cell_type": "code",
   "execution_count": null,
   "metadata": {},
   "outputs": [],
   "source": [
    "# comparing to automatically found eigenvalues :\n",
    "Hs = qml.SparseHamiltonian(qml.utils.sparse_hamiltonian(H), wires=range(qubits))\n",
    "qml.eigvals(Hs,k=5) # same order of magnitude !"
   ]
  },
  {
   "attachments": {},
   "cell_type": "markdown",
   "metadata": {},
   "source": [
    "# Geometric optimization of H20"
   ]
  },
  {
   "attachments": {},
   "cell_type": "markdown",
   "metadata": {},
   "source": [
    "### Building the parametrized electronic Hamiltonian\n",
    "\n",
    "Geometry optimization for $H_2O$"
   ]
  },
  {
   "cell_type": "code",
   "execution_count": null,
   "metadata": {},
   "outputs": [],
   "source": [
    "from pennylane import numpy as np\n",
    "#1\n",
    "symbols = [\"H\", \"O\", \"H\"]\n",
    "x = np.array([-0.0399, -0.0038, 0.0, 1.5780, 0.8540, 0.0, 2.7909, -0.5159, 0.0], requires_grad=True)\n",
    "# initial set of coordinates "
   ]
  },
  {
   "attachments": {},
   "cell_type": "markdown",
   "metadata": {},
   "source": [
    "We build a parameterized electronic hamiltonian $H(x)$ using the Jordan-Wogner transformation\n",
    "$$\n",
    "H(x)=\\sum_jh_j(x)\\prod_i^Nσ(j)_i^{(j)}.\n",
    "$$\n"
   ]
  },
  {
   "cell_type": "code",
   "execution_count": null,
   "metadata": {},
   "outputs": [],
   "source": [
    "#2\n",
    "import pennylane as qml\n",
    "\n",
    "def H(x):\n",
    "    return qml.qchem.molecular_hamiltonian(symbols, x, charge=1)[0]"
   ]
  },
  {
   "attachments": {},
   "cell_type": "markdown",
   "metadata": {},
   "source": [
    "### Variational quantum circuit \n",
    "\n",
    "Six qubits are required to describe all the molecular orbitals (see H2O MOs diagram).\n",
    "To capture the effects of electronic correlations, we need to prepare the N-qubit system in a superposition of the Hartree-Fock state $|11111111000000⟩$ with other states that differ by a double- or single-excitation.\n",
    "Then generate indices of the qubits involved in all possible single and double excitations. In addition, we need to apply an adaptative algorithm to eliminate some possibilities."
   ]
  },
  {
   "cell_type": "code",
   "execution_count": null,
   "metadata": {},
   "outputs": [],
   "source": [
    "#3\n",
    "hf = qml.qchem.hf_state(electrons=8, orbitals=14)\n",
    "print(hf)"
   ]
  },
  {
   "cell_type": "code",
   "execution_count": null,
   "metadata": {},
   "outputs": [],
   "source": [
    "#4\n",
    "num_wires = 14\n",
    "dev = qml.device(\"default.qubit\", wires=num_wires)\n",
    "\n",
    "\n",
    "@qml.qnode(dev)\n",
    "def circuit(params, obs, wires):\n",
    "    qml.BasisState(hf, wires=wires)# to initialize the qubit register\n",
    "    qml.DoubleExcitation(params[0], wires=[6, 7, 10, 11])\n",
    "    qml.DoubleExcitation(params[1], wires=[4, 5, 8, 9])\n",
    "\n",
    "    return qml.expval(obs)"
   ]
  },
  {
   "attachments": {},
   "cell_type": "markdown",
   "metadata": {},
   "source": [
    "This circuit prepares the state:\n",
    "$$\n",
    "|Ψ(θ1,θ2)⟩=cos(θ1)cos(θ2)|11111111000000⟩−cos(θ1)sin(θ2)|11111100001100⟩−sin(θ1)|11110011110000⟩\n",
    "$$"
   ]
  },
  {
   "attachments": {},
   "cell_type": "markdown",
   "metadata": {},
   "source": [
    "### The cost function and the nuclear gradients\n",
    "Defining the cost function\n",
    "$$\n",
    "g(θ,x)=⟨Ψ(θ)|H(x)|Ψ(θ)⟩\n",
    "$$\n",
    "The cost function here depends on both the circuit and the hamiltonian parameters"
   ]
  },
  {
   "cell_type": "code",
   "execution_count": 2,
   "metadata": {},
   "outputs": [],
   "source": [
    "#5\n",
    "def cost(params, x):\n",
    "    hamiltonian = H(x)\n",
    "    return circuit(params, obs=hamiltonian, wires=range(num_wires))"
   ]
  },
  {
   "cell_type": "markdown",
   "metadata": {},
   "source": [
    "The nuclear gradients are evaluated by taking the expectation value of the gradient of the electronic Hamiltonian,\n",
    "$$\n",
    "∇_xg(θ,x)=⟨Ψ(θ)|∇_xH(x)|Ψ(θ)⟩.\n",
    "$$\n",
    "\n",
    "We use the finite_diff() function to compute the gradient of the Hamiltonian using a central-difference approximation."
   ]
  },
  {
   "cell_type": "code",
   "execution_count": null,
   "metadata": {},
   "outputs": [],
   "source": [
    "#6\n",
    "def finite_diff(f, x, delta=0.01):\n",
    "    \"\"\"Compute the central-difference finite difference of a function\"\"\"\n",
    "    gradient = []\n",
    "\n",
    "    for i in range(len(x)):\n",
    "        shift = np.zeros_like(x)\n",
    "        shift[i] += 0.5 * delta\n",
    "        res = (f(x + shift) - f(x - shift)) * delta**-1\n",
    "        gradient.append(res)\n",
    "\n",
    "    return gradient"
   ]
  },
  {
   "cell_type": "markdown",
   "metadata": {},
   "source": [
    "Then, we evaluate the expectation value of the gradient components $\\frac{∂H(x)}{∂x_i}$. This is implemented by the function grad_x:"
   ]
  },
  {
   "cell_type": "code",
   "execution_count": null,
   "metadata": {},
   "outputs": [],
   "source": [
    "#7\n",
    "def grad_x(params, x):\n",
    "    grad_h = finite_diff(H, x)\n",
    "    grad = [circuit(params, obs=obs, wires=range(num_wires)) for obs in grad_h]\n",
    "    return np.array(grad)"
   ]
  },
  {
   "attachments": {},
   "cell_type": "markdown",
   "metadata": {},
   "source": [
    "### Optimization of the molecular geometry\n",
    "we proceed to minimize our cost function to find the ground state equilibrium geometry.\n",
    "the circuit parameters and the nuclear coordinates will be jointly optimized at each optimization step"
   ]
  },
  {
   "cell_type": "code",
   "execution_count": null,
   "metadata": {},
   "outputs": [],
   "source": [
    "#8\n",
    "# defining the clasical optimizers\n",
    "opt_theta = qml.GradientDescentOptimizer(stepsize=0.4)\n",
    "opt_x = qml.GradientDescentOptimizer(stepsize=0.8)"
   ]
  },
  {
   "cell_type": "code",
   "execution_count": null,
   "metadata": {},
   "outputs": [],
   "source": [
    "#9\n",
    "# initializing theta 1 and theta 2\n",
    "theta = np.array([0.0,0.0], requires_grad=True)"
   ]
  },
  {
   "attachments": {},
   "cell_type": "markdown",
   "metadata": {},
   "source": [
    "The circuit parameters and the nuclear coordinates are optimized until the maximum component of the nuclear gradient $∇_xg(θ,x)$ is less than or equal to $10^{−5}$ Hartree/Bohr. Typically, this is the convergence criterion used for optimizing molecular geometries in quantum chemistry simulations."
   ]
  },
  {
   "cell_type": "code",
   "execution_count": null,
   "metadata": {},
   "outputs": [],
   "source": [
    "#10\n",
    "from functools import partial\n",
    "import time\n",
    "\n",
    "# store the values of the cost function\n",
    "energy = []\n",
    "\n",
    "# store the values of the bond length\n",
    "bond_length = []\n",
    "\n",
    "# Factor to convert from Bohrs to Angstroms\n",
    "bohr_angs = 0.529177210903\n",
    "\n",
    "\n",
    "for n in range(4):\n",
    "    start = time.time()\n",
    "    # Optimize the circuit parameters\n",
    "    theta.requires_grad = True\n",
    "    x.requires_grad = False\n",
    "    theta, _ = opt_theta.step(cost, theta, x)\n",
    "\n",
    "    # Optimize the nuclear coordinates\n",
    "    x.requires_grad = True\n",
    "    theta.requires_grad = False\n",
    "    _, x = opt_x.step(cost, theta, x, grad_fn=grad_x)\n",
    "\n",
    "    energy.append(cost(theta, x))\n",
    "    bond_length.append(np.linalg.norm(x[0:3] - x[3:6]) * bohr_angs)\n",
    "    \n",
    "    print(f\"Step = {n},  E = {energy[-1]:.8f} Ha,  bond length = {bond_length[-1]:.5f} A\")\n",
    "    end = time.time()\n",
    "    print(f\"Time {n}=\",end - start)\n",
    "    \n",
    "    # Check maximum component of the nuclear gradient\n",
    "    if np.max(grad_x(theta, x)) <= 1e-05:\n",
    "        break\n",
    "\n",
    "print(\"\\n\" f\"Final value of the ground-state energy = {energy[-1]:.8f} Ha\")\n",
    "print(\"\\n\" \"Ground-state equilibrium geometry\")\n",
    "print(\"%s %4s %8s %8s\" % (\"symbol\", \"x\", \"y\", \"z\"))\n",
    "for i, atom in enumerate(symbols):\n",
    "    print(f\"  {atom}    {x[3 * i]:.4f}   {x[3 * i + 1]:.4f}   {x[3 * i + 2]:.4f}\")\n",
    "\n",
    "\n",
    "\n",
    "#4400 sec\n",
    "#2750 sec\n",
    "\n",
    "# print(x)"
   ]
  },
  {
   "cell_type": "code",
   "execution_count": null,
   "metadata": {},
   "outputs": [],
   "source": [
    "import matplotlib.pyplot as plt\n",
    "import matplotlib as mpl\n",
    "plt.rcParams[\"figure.figsize\"] = (7,5)\n",
    "mpl.rcParams.update({'font.size': 16})\n",
    "plt.figure()\n",
    "plt.plot(x[0],x[1], 'o',label='H')\n",
    "plt.plot(x[3],x[4], 'o',label='O')\n",
    "plt.plot(x[6],x[7], 'o',label='H')\n",
    "\n",
    "LigneX1=[x[0],x[3]]\n",
    "LigneY1=[x[1],x[4]]\n",
    "LigneX2=[x[3],x[6]]\n",
    "LigneY2=[x[4],x[7]]\n",
    "\n",
    "plt.plot(LigneX1,LigneY1,'--',color='b')\n",
    "plt.plot(LigneX2,LigneY2,'--',color='b')\n",
    "\n",
    "plt.grid()\n",
    "plt.xlabel('X axis in Angstrom')\n",
    "plt.ylabel('Y axis in Angstrom')\n",
    "\n",
    "plt.legend()\n",
    "plt.tight_layout()\n",
    "plt.savefig(\"H20_geo\")\n",
    "plt.show()\n"
   ]
  },
  {
   "cell_type": "code",
   "execution_count": null,
   "metadata": {},
   "outputs": [],
   "source": [
    "plt.rcParams[\"figure.figsize\"] = (7,5)\n",
    "mpl.rcParams.update({'font.size': 16})\n",
    "\n",
    "Number=[1,2,3,4]\n",
    "fig, ax1 = plt.subplots()\n",
    "ax1.plot(Number,energy, 'o' ,color='blue')\n",
    "ax2 = ax1.twinx()\n",
    "ax2.plot(Number,bond_length, 'o' ,color='red')\n",
    "\n",
    "ax1.set_xlabel('Number of iteration')\n",
    "ax1.set_ylabel('Ground state energy given in Ha')\n",
    "ax2.set_ylabel('Bond length in Angstrom')\n",
    "ax1.grid()\n",
    "fig.tight_layout()\n",
    "plt.savefig('Energy_bond')\n",
    "plt.show()\n"
   ]
  }
 ],
 "metadata": {
  "kernelspec": {
   "display_name": "Python 3",
   "language": "python",
   "name": "python3"
  },
  "language_info": {
   "codemirror_mode": {
    "name": "ipython",
    "version": 3
   },
   "file_extension": ".py",
   "mimetype": "text/x-python",
   "name": "python",
   "nbconvert_exporter": "python",
   "pygments_lexer": "ipython3",
   "version": "3.9.5"
  },
  "orig_nbformat": 4,
  "vscode": {
   "interpreter": {
    "hash": "2f2e1fb2a3b1494e2ce2d620806ace1f30b1e2c236dd55f932f68dad84626b10"
   }
  }
 },
 "nbformat": 4,
 "nbformat_minor": 2
}
