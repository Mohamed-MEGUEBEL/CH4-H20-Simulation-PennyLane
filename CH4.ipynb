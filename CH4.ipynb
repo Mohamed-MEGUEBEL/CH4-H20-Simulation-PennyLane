{
 "cells": [
  {
   "attachments": {},
   "cell_type": "markdown",
   "metadata": {},
   "source": [
    " # Simulating CH4 with PennyLane "
   ]
  },
  {
   "attachments": {},
   "cell_type": "markdown",
   "metadata": {},
   "source": [
    "## Building molecular Hamiltonian "
   ]
  },
  {
   "cell_type": "code",
   "execution_count": null,
   "metadata": {},
   "outputs": [],
   "source": [
    "from pennylane import numpy as np \n",
    "from pennylane import qchem \n",
    "import pennylane as qml \n",
    "import time \n",
    "\n",
    "# defining the molecule \n",
    "\n",
    "symbols = [\"C\", \"H\", \"H\", \"H\", \"H\"]\n",
    "coordinates = 0.529*np.array([[0.0,0.0,0.0],[0.6276,0.6276,0.6276],[0.6276,-0.6276,-0.6276],[-0.6276,0.6276,-0.6276],[-0.6276,-0.6276,0.6276]])\n",
    "# coordinates in atomic units "
   ]
  },
  {
   "cell_type": "code",
   "execution_count": null,
   "metadata": {},
   "outputs": [],
   "source": [
    "# defining molecule specificites for simplification after having studied it's MOs\n",
    "\n",
    "charge = 0  # not an ion \n",
    "mult = 1 # initially, prone to change if Givens rotations \n",
    "active_electrons = 8 # not considering the 1s core electrons \n",
    "active_orbitals = 5 # neglecting core 1s and the 3 MOs with the highest energy\n",
    "\n",
    "H, qubits = qchem.molecular_hamiltonian(symbols,coordinates,charge=charge, mult = mult, active_electrons = active_electrons, active_orbitals = active_orbitals)\n"
   ]
  },
  {
   "attachments": {},
   "cell_type": "markdown",
   "metadata": {},
   "source": [
    "## Energy and ground state "
   ]
  },
  {
   "cell_type": "code",
   "execution_count": null,
   "metadata": {},
   "outputs": [],
   "source": [
    "electrons = 8\n",
    "hf = qml.qchem.hf_state(electrons, qubits) # creating corresponding Hartree-Fock state\n",
    "print(hf)"
   ]
  },
  {
   "attachments": {},
   "cell_type": "markdown",
   "metadata": {},
   "source": [
    "### Evaluating the relevant Givens rotations (i.e. electrons excitations)"
   ]
  },
  {
   "cell_type": "code",
   "execution_count": null,
   "metadata": {},
   "outputs": [],
   "source": [
    "singles, doubles = qchem.excitations(active_electrons,qubits)\n",
    "print(\"Total number of excitations = {}\".format(len(singles)+len(doubles))) # yields 24 possible spin-preserving excitations\n",
    "\n",
    "def circuit_1(params, excitations): \n",
    "    qml.BasisState(hf,wires=range(qubits)) # generating the corresponding Hartree-Fock state in the the VQC\n",
    "    for i, excitation in enumerate(excitations):\n",
    "        if len(excitation) == 4: # meaning a double-excitation \n",
    "            qml.DoubleExcitation(params[i],wires=excitation) # where the excitation is being applied\n",
    "        else: # meaning single-excitation \n",
    "            qml.SingleExcitation(params[i],wires=excitation) \n",
    "    return qml.expval(H)\n",
    "\n",
    "\"\"\" \n",
    "Protocol : \n",
    "\n",
    "- Compute gradients for all double excitations.\n",
    "\n",
    "- Select the double excitations with gradients larger than a pre-defined threshold.\n",
    "\n",
    "- Perform VQE to obtain the optimized parameters for the selected double excitations.\n",
    "\n",
    "- Repeat steps 1 and 2 for the single excitations.\n",
    "\n",
    "- Perform the final VQE optimization with all the selected excitations.\n",
    "\"\"\""
   ]
  },
  {
   "cell_type": "code",
   "execution_count": null,
   "metadata": {},
   "outputs": [],
   "source": [
    "# double excitations selection\n",
    "\n",
    "dev = qml.device(\"default.qubit\",wires=qubits)\n",
    "cost_fn = qml.QNode(circuit_1,dev) # instead of the decorator, same thing otherwise\n",
    "\n",
    "circuit_gradient = qml.grad(cost_fn,argnum=0) # returns the gradient as a callable function of (functions of) QNodes.\n",
    "\n",
    "params = [0.0] * len(doubles) # parameter values to zero such that the gradients are computed with respect to the Hartree-Fock state.\n",
    "grads = circuit_gradient(params,excitations=doubles) # OK \n",
    "\n",
    "#for i in range(len(doubles)):\n",
    "    #print(f\"Excitation : {doubles[i]}, Gradient : {grads[i]}\")"
   ]
  },
  {
   "cell_type": "code",
   "execution_count": null,
   "metadata": {},
   "outputs": [],
   "source": [
    "# defining the right threshold in order not to have to many Givens rotations \n",
    "\n",
    "doubles_select = [doubles[i] for i in range(len(doubles)) if abs(grads[i]) > 1.0e-2]\n",
    "# len(doubles_select), if 1.0e-3 takes all the excitations"
   ]
  },
  {
   "cell_type": "code",
   "execution_count": null,
   "metadata": {},
   "outputs": [],
   "source": [
    "# finding the optimizing parameters for double excitations \n",
    "\n",
    "opt = qml.GradientDescentOptimizer(stepsize=0.5) # QNG doesn't seem to provide any speed-up\n",
    "params_doubles = np.zeros(len(doubles_select),requires_grad = True) \n",
    "\n",
    "for n in range(20): # number of optimizations \n",
    "    params_doubles = opt.step(cost_fn, params_doubles, excitations=doubles_select) "
   ]
  },
  {
   "cell_type": "code",
   "execution_count": null,
   "metadata": {},
   "outputs": [],
   "source": [
    "# single excitations selection (same idea but have to prior consider the previously selected double excitations)\n",
    "\n",
    "def circuit_2(params, excitations, gates_select, params_select):\n",
    "    qml.BasisState(hf, wires=range(qubits))\n",
    "    for i, gate in enumerate(gates_select): # applying the selected double excitations \n",
    "        qml.DoubleExcitation(params_select[i], wires=gate)       \n",
    "    for i, gate in enumerate(excitations): # testing the single excitations \n",
    "        qml.SingleExcitation(params[i], wires=gate)\n",
    "    return qml.expval(H)\n",
    "\n",
    "cost_fn = qml.QNode(circuit_2, dev)\n",
    "circuit_gradient = qml.grad(cost_fn, argnum=0)\n",
    "params = [0.0] * len(singles)\n",
    "\n",
    "grads = circuit_gradient(\n",
    "    params,\n",
    "    excitations=singles,\n",
    "    gates_select=doubles_select,\n",
    "    params_select=params_doubles\n",
    ")\n",
    "\n",
    "#for i in range(len(singles)):\n",
    "    #print(f\"Excitation : {singles[i]}, Gradient: {grads[i]}\") # f format string"
   ]
  },
  {
   "cell_type": "code",
   "execution_count": null,
   "metadata": {},
   "outputs": [],
   "source": [
    "# defining the right threshold in order not to have to many Givens rotations \n",
    "\n",
    "singles_select = [singles[i] for i in range(len(singles)) if abs(grads[i]) > 1.0e-4]\n",
    "# len(singles_select)"
   ]
  },
  {
   "cell_type": "code",
   "execution_count": null,
   "metadata": {},
   "outputs": [],
   "source": [
    "# applying all selected excitations and VQE to optimize the full quantum circuit \n",
    "\n",
    "# before, to speed things up, let's consider the sparsing (lot of zeroes) of the molecular Hamiltonian \n",
    "\n",
    "H_sparse = qml.utils.sparse_hamiltonian(H)\n",
    "\n",
    "# now the VQE \n",
    "\n",
    "opt = qml.GradientDescentOptimizer(stepsize=0.5) # what about QNG ?\n",
    "\n",
    "excitations = doubles_select + singles_select\n",
    "\n",
    "params = np.zeros(len(excitations), requires_grad=True)\n",
    "\n",
    "@qml.qnode(dev, diff_method=\"parameter-shift\")\n",
    "def circuit(params):\n",
    "    qml.BasisState(hf, wires=range(qubits))\n",
    "\n",
    "    for i, excitation in enumerate(excitations):\n",
    "        if len(excitation) == 4:\n",
    "            qml.DoubleExcitation(params[i], wires=excitation)\n",
    "        elif len(excitation) == 2:\n",
    "            qml.SingleExcitation(params[i], wires=excitation)\n",
    "\n",
    "    return qml.expval(qml.SparseHamiltonian(H_sparse, wires=range(qubits)))\n",
    "\n",
    "\n",
    "for n in range(20):\n",
    "    t1 = time.time()\n",
    "    params, energy = opt.step_and_cost(circuit, params)\n",
    "    t2 = time.time()\n",
    "    print(\"n = {:},  E = {:.8f} H, t = {:.2f} s\".format(n, energy, t2 - t1))"
   ]
  },
  {
   "cell_type": "code",
   "execution_count": null,
   "metadata": {},
   "outputs": [],
   "source": [
    "# comparing to automatically found eigenvalues :\n",
    "Hs = qml.SparseHamiltonian(qml.utils.sparse_hamiltonian(H), wires=range(qubits))\n",
    "qml.eigvals(Hs,k=5) # same order of magnitude !"
   ]
  }
 ],
 "metadata": {
  "language_info": {
   "name": "python"
  },
  "orig_nbformat": 4
 },
 "nbformat": 4,
 "nbformat_minor": 2
}
